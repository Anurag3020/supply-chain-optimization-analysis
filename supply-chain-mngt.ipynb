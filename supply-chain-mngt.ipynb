{
 "cells": [
  {
   "cell_type": "code",
   "execution_count": 1,
   "id": "26cd72d7",
   "metadata": {
    "_cell_guid": "b1076dfc-b9ad-4769-8c92-a6c4dae69d19",
    "_uuid": "8f2839f25d086af736a60e9eeb907d3b93b6e0e5",
    "execution": {
     "iopub.execute_input": "2025-07-31T15:35:47.921390Z",
     "iopub.status.busy": "2025-07-31T15:35:47.921017Z",
     "iopub.status.idle": "2025-07-31T15:35:49.819014Z",
     "shell.execute_reply": "2025-07-31T15:35:49.818052Z"
    },
    "papermill": {
     "duration": 1.904149,
     "end_time": "2025-07-31T15:35:49.820557",
     "exception": false,
     "start_time": "2025-07-31T15:35:47.916408",
     "status": "completed"
    },
    "tags": []
   },
   "outputs": [
    {
     "name": "stdout",
     "output_type": "stream",
     "text": [
      "/kaggle/input/supply-chain-management/supply_chain_data.csv\n"
     ]
    }
   ],
   "source": [
    "# This Python 3 environment comes with many helpful analytics libraries installed\n",
    "# It is defined by the kaggle/python Docker image: https://github.com/kaggle/docker-python\n",
    "# For example, here's several helpful packages to load\n",
    "\n",
    "import numpy as np # linear algebra\n",
    "import pandas as pd # data processing, CSV file I/O (e.g. pd.read_csv)\n",
    "\n",
    "# Input data files are available in the read-only \"../input/\" directory\n",
    "# For example, running this (by clicking run or pressing Shift+Enter) will list all files under the input directory\n",
    "\n",
    "import os\n",
    "for dirname, _, filenames in os.walk('/kaggle/input'):\n",
    "    for filename in filenames:\n",
    "        print(os.path.join(dirname, filename))\n",
    "\n",
    "# You can write up to 20GB to the current directory (/kaggle/working/) that gets preserved as output when you create a version using \"Save & Run All\" \n",
    "# You can also write temporary files to /kaggle/temp/, but they won't be saved outside of the current session"
   ]
  },
  {
   "cell_type": "code",
   "execution_count": 2,
   "id": "4455f5f9",
   "metadata": {
    "execution": {
     "iopub.execute_input": "2025-07-31T15:35:49.828170Z",
     "iopub.status.busy": "2025-07-31T15:35:49.827800Z",
     "iopub.status.idle": "2025-07-31T15:36:09.444478Z",
     "shell.execute_reply": "2025-07-31T15:36:09.443377Z"
    },
    "papermill": {
     "duration": 19.622076,
     "end_time": "2025-07-31T15:36:09.445993",
     "exception": false,
     "start_time": "2025-07-31T15:35:49.823917",
     "status": "completed"
    },
    "tags": []
   },
   "outputs": [
    {
     "name": "stderr",
     "output_type": "stream",
     "text": [
      "2025-07-31 15:35:54.070641: E external/local_xla/xla/stream_executor/cuda/cuda_fft.cc:477] Unable to register cuFFT factory: Attempting to register factory for plugin cuFFT when one has already been registered\n",
      "WARNING: All log messages before absl::InitializeLog() is called are written to STDERR\n",
      "E0000 00:00:1753976154.341303      13 cuda_dnn.cc:8310] Unable to register cuDNN factory: Attempting to register factory for plugin cuDNN when one has already been registered\n",
      "E0000 00:00:1753976154.423014      13 cuda_blas.cc:1418] Unable to register cuBLAS factory: Attempting to register factory for plugin cuBLAS when one has already been registered\n"
     ]
    },
    {
     "name": "stdout",
     "output_type": "stream",
     "text": [
      "  Product type   SKU      Price  Availability  Number of products sold  \\\n",
      "0     haircare  SKU0  69.808006            55                      802   \n",
      "1     skincare  SKU1  14.843523            95                      736   \n",
      "2     haircare  SKU2  11.319683            34                        8   \n",
      "3     skincare  SKU3  61.163343            68                       83   \n",
      "4     skincare  SKU4   4.805496            26                      871   \n",
      "\n",
      "   Revenue generated Customer demographics  Stock levels  Lead times  \\\n",
      "0        8661.996792            Non-binary            58           7   \n",
      "1        7460.900065                Female            53          30   \n",
      "2        9577.749626               Unknown             1          10   \n",
      "3        7766.836426            Non-binary            23          13   \n",
      "4        2686.505152            Non-binary             5           3   \n",
      "\n",
      "   Order quantities  ...  Location Lead time  Production volumes  \\\n",
      "0                96  ...    Mumbai        29                 215   \n",
      "1                37  ...    Mumbai        23                 517   \n",
      "2                88  ...    Mumbai        12                 971   \n",
      "3                59  ...   Kolkata        24                 937   \n",
      "4                56  ...     Delhi         5                 414   \n",
      "\n",
      "  Manufacturing lead time Manufacturing costs  Inspection results  \\\n",
      "0                      29           46.279879             Pending   \n",
      "1                      30           33.616769             Pending   \n",
      "2                      27           30.688019             Pending   \n",
      "3                      18           35.624741                Fail   \n",
      "4                       3           92.065161                Fail   \n",
      "\n",
      "   Defect rates  Transportation modes   Routes       Costs  \n",
      "0      0.226410                  Road  Route B  187.752075  \n",
      "1      4.854068                  Road  Route B  503.065579  \n",
      "2      4.580593                   Air  Route C  141.920282  \n",
      "3      4.746649                  Rail  Route A  254.776159  \n",
      "4      3.145580                   Air  Route A  923.440632  \n",
      "\n",
      "[5 rows x 24 columns]\n"
     ]
    }
   ],
   "source": [
    "import pandas as pd\n",
    "import numpy as np\n",
    "import matplotlib.pyplot as plt\n",
    "import seaborn as sns\n",
    "\n",
    "from sklearn.model_selection import train_test_split\n",
    "from sklearn.preprocessing import StandardScaler\n",
    "from sklearn.metrics import mean_squared_error\n",
    "\n",
    "import tensorflow as tf\n",
    "from tensorflow import keras\n",
    "from tensorflow.keras import layers\n",
    "\n",
    "data = pd.read_csv(\"/kaggle/input/supply-chain-management/supply_chain_data.csv\")\n",
    "\n",
    "print(data.head())"
   ]
  },
  {
   "cell_type": "code",
   "execution_count": 3,
   "id": "ba30846c",
   "metadata": {
    "execution": {
     "iopub.execute_input": "2025-07-31T15:36:09.453723Z",
     "iopub.status.busy": "2025-07-31T15:36:09.453426Z",
     "iopub.status.idle": "2025-07-31T15:36:09.458556Z",
     "shell.execute_reply": "2025-07-31T15:36:09.457347Z"
    },
    "papermill": {
     "duration": 0.010747,
     "end_time": "2025-07-31T15:36:09.460206",
     "exception": false,
     "start_time": "2025-07-31T15:36:09.449459",
     "status": "completed"
    },
    "tags": []
   },
   "outputs": [
    {
     "name": "stdout",
     "output_type": "stream",
     "text": [
      "['Product type', 'SKU', 'Price', 'Availability', 'Number of products sold', 'Revenue generated', 'Customer demographics', 'Stock levels', 'Lead times', 'Order quantities', 'Shipping times', 'Shipping carriers', 'Shipping costs', 'Supplier name', 'Location', 'Lead time', 'Production volumes', 'Manufacturing lead time', 'Manufacturing costs', 'Inspection results', 'Defect rates', 'Transportation modes', 'Routes', 'Costs']\n"
     ]
    }
   ],
   "source": [
    "print(data.columns.tolist())"
   ]
  },
  {
   "cell_type": "code",
   "execution_count": 4,
   "id": "3ad29dde",
   "metadata": {
    "execution": {
     "iopub.execute_input": "2025-07-31T15:36:09.468622Z",
     "iopub.status.busy": "2025-07-31T15:36:09.467732Z",
     "iopub.status.idle": "2025-07-31T15:36:09.479358Z",
     "shell.execute_reply": "2025-07-31T15:36:09.478365Z"
    },
    "papermill": {
     "duration": 0.01725,
     "end_time": "2025-07-31T15:36:09.480801",
     "exception": false,
     "start_time": "2025-07-31T15:36:09.463551",
     "status": "completed"
    },
    "tags": []
   },
   "outputs": [
    {
     "name": "stdout",
     "output_type": "stream",
     "text": [
      "Product type                object\n",
      "Price                      float64\n",
      "Availability                 int64\n",
      "Number of products sold      int64\n",
      "Revenue generated          float64\n",
      "Customer demographics       object\n",
      "Stock levels                 int64\n",
      "Lead times                   int64\n",
      "Order quantities             int64\n",
      "Shipping times               int64\n",
      "Shipping carriers           object\n",
      "Shipping costs             float64\n",
      "Location                    object\n",
      "Lead time                    int64\n",
      "Production volumes           int64\n",
      "Manufacturing lead time      int64\n",
      "Manufacturing costs        float64\n",
      "Inspection results          object\n",
      "Defect rates               float64\n",
      "Transportation modes        object\n",
      "Routes                      object\n",
      "Costs                      float64\n",
      "dtype: object\n"
     ]
    }
   ],
   "source": [
    "data = data.dropna()\n",
    "data = data.drop(columns=['SKU', 'Supplier name'], errors='ignore')\n",
    "print(data.dtypes)"
   ]
  },
  {
   "cell_type": "code",
   "execution_count": 5,
   "id": "b7927d49",
   "metadata": {
    "execution": {
     "iopub.execute_input": "2025-07-31T15:36:09.488874Z",
     "iopub.status.busy": "2025-07-31T15:36:09.488563Z",
     "iopub.status.idle": "2025-07-31T15:36:09.506067Z",
     "shell.execute_reply": "2025-07-31T15:36:09.505209Z"
    },
    "papermill": {
     "duration": 0.023566,
     "end_time": "2025-07-31T15:36:09.507741",
     "exception": false,
     "start_time": "2025-07-31T15:36:09.484175",
     "status": "completed"
    },
    "tags": []
   },
   "outputs": [],
   "source": [
    "categorical_cols = [\n",
    "    'Product type', 'Availability', 'Customer demographics',\n",
    "    'Location', 'Transportation modes', 'Routes',\n",
    "    'Shipping carriers', 'Inspection results'\n",
    "]\n",
    "\n",
    "data = pd.get_dummies(data, columns=categorical_cols)"
   ]
  },
  {
   "cell_type": "code",
   "execution_count": 6,
   "id": "e7649804",
   "metadata": {
    "execution": {
     "iopub.execute_input": "2025-07-31T15:36:09.515440Z",
     "iopub.status.busy": "2025-07-31T15:36:09.515110Z",
     "iopub.status.idle": "2025-07-31T15:36:09.522688Z",
     "shell.execute_reply": "2025-07-31T15:36:09.521836Z"
    },
    "papermill": {
     "duration": 0.013228,
     "end_time": "2025-07-31T15:36:09.524353",
     "exception": false,
     "start_time": "2025-07-31T15:36:09.511125",
     "status": "completed"
    },
    "tags": []
   },
   "outputs": [],
   "source": [
    "X = data.drop(columns=['Revenue generated'])\n",
    "y = data['Revenue generated']"
   ]
  },
  {
   "cell_type": "code",
   "execution_count": 7,
   "id": "080efc20",
   "metadata": {
    "execution": {
     "iopub.execute_input": "2025-07-31T15:36:09.532452Z",
     "iopub.status.busy": "2025-07-31T15:36:09.532032Z",
     "iopub.status.idle": "2025-07-31T15:36:09.556952Z",
     "shell.execute_reply": "2025-07-31T15:36:09.556136Z"
    },
    "papermill": {
     "duration": 0.030688,
     "end_time": "2025-07-31T15:36:09.558555",
     "exception": false,
     "start_time": "2025-07-31T15:36:09.527867",
     "status": "completed"
    },
    "tags": []
   },
   "outputs": [],
   "source": [
    "from sklearn.model_selection import train_test_split\n",
    "from sklearn.preprocessing import StandardScaler\n",
    "\n",
    "X_train, X_test, y_train, y_test = train_test_split(X, y, test_size=0.2, random_state=42)\n",
    "\n",
    "scaler = StandardScaler()\n",
    "X_train_scaled = scaler.fit_transform(X_train)\n",
    "X_test_scaled = scaler.transform(X_test)"
   ]
  },
  {
   "cell_type": "code",
   "execution_count": 8,
   "id": "5b99d35d",
   "metadata": {
    "execution": {
     "iopub.execute_input": "2025-07-31T15:36:09.566433Z",
     "iopub.status.busy": "2025-07-31T15:36:09.566097Z",
     "iopub.status.idle": "2025-07-31T15:36:09.657017Z",
     "shell.execute_reply": "2025-07-31T15:36:09.655967Z"
    },
    "papermill": {
     "duration": 0.096635,
     "end_time": "2025-07-31T15:36:09.658654",
     "exception": false,
     "start_time": "2025-07-31T15:36:09.562019",
     "status": "completed"
    },
    "tags": []
   },
   "outputs": [
    {
     "name": "stderr",
     "output_type": "stream",
     "text": [
      "/usr/local/lib/python3.11/dist-packages/keras/src/layers/core/dense.py:87: UserWarning: Do not pass an `input_shape`/`input_dim` argument to a layer. When using Sequential models, prefer using an `Input(shape)` object as the first layer in the model instead.\n",
      "  super().__init__(activity_regularizer=activity_regularizer, **kwargs)\n",
      "2025-07-31 15:36:09.581121: E external/local_xla/xla/stream_executor/cuda/cuda_driver.cc:152] failed call to cuInit: INTERNAL: CUDA error: Failed call to cuInit: UNKNOWN ERROR (303)\n"
     ]
    }
   ],
   "source": [
    "from tensorflow.keras.models import Sequential\n",
    "from tensorflow.keras.layers import Dense\n",
    "\n",
    "model = Sequential([\n",
    "    Dense(64, activation='relu', input_shape=(X_train_scaled.shape[1],)),\n",
    "    Dense(32, activation='relu'),\n",
    "    Dense(1)  \n",
    "])"
   ]
  },
  {
   "cell_type": "code",
   "execution_count": 9,
   "id": "82b1ddf8",
   "metadata": {
    "execution": {
     "iopub.execute_input": "2025-07-31T15:36:09.666927Z",
     "iopub.status.busy": "2025-07-31T15:36:09.666135Z",
     "iopub.status.idle": "2025-07-31T15:36:09.681413Z",
     "shell.execute_reply": "2025-07-31T15:36:09.680479Z"
    },
    "papermill": {
     "duration": 0.021037,
     "end_time": "2025-07-31T15:36:09.683057",
     "exception": false,
     "start_time": "2025-07-31T15:36:09.662020",
     "status": "completed"
    },
    "tags": []
   },
   "outputs": [],
   "source": [
    "model.compile(optimizer='adam', loss='mse', metrics=['mae'])"
   ]
  },
  {
   "cell_type": "code",
   "execution_count": 10,
   "id": "8983be43",
   "metadata": {
    "execution": {
     "iopub.execute_input": "2025-07-31T15:36:09.691328Z",
     "iopub.status.busy": "2025-07-31T15:36:09.690936Z",
     "iopub.status.idle": "2025-07-31T15:36:16.473062Z",
     "shell.execute_reply": "2025-07-31T15:36:16.472242Z"
    },
    "papermill": {
     "duration": 6.788265,
     "end_time": "2025-07-31T15:36:16.474858",
     "exception": false,
     "start_time": "2025-07-31T15:36:09.686593",
     "status": "completed"
    },
    "tags": []
   },
   "outputs": [
    {
     "name": "stdout",
     "output_type": "stream",
     "text": [
      "Epoch 1/50\n",
      "\u001b[1m2/2\u001b[0m \u001b[32m━━━━━━━━━━━━━━━━━━━━\u001b[0m\u001b[37m\u001b[0m \u001b[1m2s\u001b[0m 296ms/step - loss: 38721928.0000 - mae: 5645.8823 - val_loss: 51625520.0000 - val_mae: 6571.8481\n",
      "Epoch 2/50\n",
      "\u001b[1m2/2\u001b[0m \u001b[32m━━━━━━━━━━━━━━━━━━━━\u001b[0m\u001b[37m\u001b[0m \u001b[1m0s\u001b[0m 63ms/step - loss: 39934016.0000 - mae: 5747.5669 - val_loss: 51621760.0000 - val_mae: 6571.5732\n",
      "Epoch 3/50\n",
      "\u001b[1m2/2\u001b[0m \u001b[32m━━━━━━━━━━━━━━━━━━━━\u001b[0m\u001b[37m\u001b[0m \u001b[1m0s\u001b[0m 67ms/step - loss: 38887520.0000 - mae: 5703.4194 - val_loss: 51618072.0000 - val_mae: 6571.3027\n",
      "Epoch 4/50\n",
      "\u001b[1m2/2\u001b[0m \u001b[32m━━━━━━━━━━━━━━━━━━━━\u001b[0m\u001b[37m\u001b[0m \u001b[1m0s\u001b[0m 64ms/step - loss: 38078060.0000 - mae: 5599.5938 - val_loss: 51614440.0000 - val_mae: 6571.0352\n",
      "Epoch 5/50\n",
      "\u001b[1m2/2\u001b[0m \u001b[32m━━━━━━━━━━━━━━━━━━━━\u001b[0m\u001b[37m\u001b[0m \u001b[1m0s\u001b[0m 63ms/step - loss: 39543464.0000 - mae: 5746.5142 - val_loss: 51610856.0000 - val_mae: 6570.7715\n",
      "Epoch 6/50\n",
      "\u001b[1m2/2\u001b[0m \u001b[32m━━━━━━━━━━━━━━━━━━━━\u001b[0m\u001b[37m\u001b[0m \u001b[1m0s\u001b[0m 65ms/step - loss: 37269628.0000 - mae: 5567.7139 - val_loss: 51607264.0000 - val_mae: 6570.5078\n",
      "Epoch 7/50\n",
      "\u001b[1m2/2\u001b[0m \u001b[32m━━━━━━━━━━━━━━━━━━━━\u001b[0m\u001b[37m\u001b[0m \u001b[1m0s\u001b[0m 62ms/step - loss: 37015544.0000 - mae: 5529.7505 - val_loss: 51603648.0000 - val_mae: 6570.2402\n",
      "Epoch 8/50\n",
      "\u001b[1m2/2\u001b[0m \u001b[32m━━━━━━━━━━━━━━━━━━━━\u001b[0m\u001b[37m\u001b[0m \u001b[1m0s\u001b[0m 62ms/step - loss: 38888264.0000 - mae: 5659.4849 - val_loss: 51600032.0000 - val_mae: 6569.9731\n",
      "Epoch 9/50\n",
      "\u001b[1m2/2\u001b[0m \u001b[32m━━━━━━━━━━━━━━━━━━━━\u001b[0m\u001b[37m\u001b[0m \u001b[1m0s\u001b[0m 64ms/step - loss: 38397096.0000 - mae: 5632.4116 - val_loss: 51596376.0000 - val_mae: 6569.7021\n",
      "Epoch 10/50\n",
      "\u001b[1m2/2\u001b[0m \u001b[32m━━━━━━━━━━━━━━━━━━━━\u001b[0m\u001b[37m\u001b[0m \u001b[1m0s\u001b[0m 63ms/step - loss: 38307516.0000 - mae: 5607.5928 - val_loss: 51592700.0000 - val_mae: 6569.4297\n",
      "Epoch 11/50\n",
      "\u001b[1m2/2\u001b[0m \u001b[32m━━━━━━━━━━━━━━━━━━━━\u001b[0m\u001b[37m\u001b[0m \u001b[1m0s\u001b[0m 66ms/step - loss: 38242840.0000 - mae: 5618.7290 - val_loss: 51588992.0000 - val_mae: 6569.1553\n",
      "Epoch 12/50\n",
      "\u001b[1m2/2\u001b[0m \u001b[32m━━━━━━━━━━━━━━━━━━━━\u001b[0m\u001b[37m\u001b[0m \u001b[1m0s\u001b[0m 64ms/step - loss: 40592476.0000 - mae: 5850.8936 - val_loss: 51585240.0000 - val_mae: 6568.8774\n",
      "Epoch 13/50\n",
      "\u001b[1m2/2\u001b[0m \u001b[32m━━━━━━━━━━━━━━━━━━━━\u001b[0m\u001b[37m\u001b[0m \u001b[1m0s\u001b[0m 63ms/step - loss: 37764328.0000 - mae: 5585.1187 - val_loss: 51581440.0000 - val_mae: 6568.5942\n",
      "Epoch 14/50\n",
      "\u001b[1m2/2\u001b[0m \u001b[32m━━━━━━━━━━━━━━━━━━━━\u001b[0m\u001b[37m\u001b[0m \u001b[1m0s\u001b[0m 63ms/step - loss: 40032268.0000 - mae: 5780.0625 - val_loss: 51577584.0000 - val_mae: 6568.3076\n",
      "Epoch 15/50\n",
      "\u001b[1m2/2\u001b[0m \u001b[32m━━━━━━━━━━━━━━━━━━━━\u001b[0m\u001b[37m\u001b[0m \u001b[1m0s\u001b[0m 63ms/step - loss: 37355912.0000 - mae: 5579.5952 - val_loss: 51573616.0000 - val_mae: 6568.0127\n",
      "Epoch 16/50\n",
      "\u001b[1m2/2\u001b[0m \u001b[32m━━━━━━━━━━━━━━━━━━━━\u001b[0m\u001b[37m\u001b[0m \u001b[1m0s\u001b[0m 61ms/step - loss: 36623628.0000 - mae: 5497.0205 - val_loss: 51569552.0000 - val_mae: 6567.7119\n",
      "Epoch 17/50\n",
      "\u001b[1m2/2\u001b[0m \u001b[32m━━━━━━━━━━━━━━━━━━━━\u001b[0m\u001b[37m\u001b[0m \u001b[1m0s\u001b[0m 64ms/step - loss: 40215236.0000 - mae: 5767.7617 - val_loss: 51565360.0000 - val_mae: 6567.4028\n",
      "Epoch 18/50\n",
      "\u001b[1m2/2\u001b[0m \u001b[32m━━━━━━━━━━━━━━━━━━━━\u001b[0m\u001b[37m\u001b[0m \u001b[1m0s\u001b[0m 62ms/step - loss: 37612216.0000 - mae: 5564.1250 - val_loss: 51561060.0000 - val_mae: 6567.0869\n",
      "Epoch 19/50\n",
      "\u001b[1m2/2\u001b[0m \u001b[32m━━━━━━━━━━━━━━━━━━━━\u001b[0m\u001b[37m\u001b[0m \u001b[1m0s\u001b[0m 79ms/step - loss: 37010944.0000 - mae: 5515.6255 - val_loss: 51556584.0000 - val_mae: 6566.7593\n",
      "Epoch 20/50\n",
      "\u001b[1m2/2\u001b[0m \u001b[32m━━━━━━━━━━━━━━━━━━━━\u001b[0m\u001b[37m\u001b[0m \u001b[1m0s\u001b[0m 63ms/step - loss: 40496644.0000 - mae: 5800.9946 - val_loss: 51551980.0000 - val_mae: 6566.4209\n",
      "Epoch 21/50\n",
      "\u001b[1m2/2\u001b[0m \u001b[32m━━━━━━━━━━━━━━━━━━━━\u001b[0m\u001b[37m\u001b[0m \u001b[1m0s\u001b[0m 63ms/step - loss: 38513676.0000 - mae: 5657.1309 - val_loss: 51547304.0000 - val_mae: 6566.0771\n",
      "Epoch 22/50\n",
      "\u001b[1m2/2\u001b[0m \u001b[32m━━━━━━━━━━━━━━━━━━━━\u001b[0m\u001b[37m\u001b[0m \u001b[1m0s\u001b[0m 63ms/step - loss: 39698648.0000 - mae: 5756.1504 - val_loss: 51542520.0000 - val_mae: 6565.7256\n",
      "Epoch 23/50\n",
      "\u001b[1m2/2\u001b[0m \u001b[32m━━━━━━━━━━━━━━━━━━━━\u001b[0m\u001b[37m\u001b[0m \u001b[1m0s\u001b[0m 63ms/step - loss: 39399572.0000 - mae: 5732.3638 - val_loss: 51537656.0000 - val_mae: 6565.3701\n",
      "Epoch 24/50\n",
      "\u001b[1m2/2\u001b[0m \u001b[32m━━━━━━━━━━━━━━━━━━━━\u001b[0m\u001b[37m\u001b[0m \u001b[1m0s\u001b[0m 64ms/step - loss: 36470644.0000 - mae: 5469.9370 - val_loss: 51532696.0000 - val_mae: 6565.0068\n",
      "Epoch 25/50\n",
      "\u001b[1m2/2\u001b[0m \u001b[32m━━━━━━━━━━━━━━━━━━━━\u001b[0m\u001b[37m\u001b[0m \u001b[1m0s\u001b[0m 64ms/step - loss: 38413348.0000 - mae: 5624.6348 - val_loss: 51527608.0000 - val_mae: 6564.6348\n",
      "Epoch 26/50\n",
      "\u001b[1m2/2\u001b[0m \u001b[32m━━━━━━━━━━━━━━━━━━━━\u001b[0m\u001b[37m\u001b[0m \u001b[1m0s\u001b[0m 63ms/step - loss: 39296968.0000 - mae: 5701.0693 - val_loss: 51522328.0000 - val_mae: 6564.2510\n",
      "Epoch 27/50\n",
      "\u001b[1m2/2\u001b[0m \u001b[32m━━━━━━━━━━━━━━━━━━━━\u001b[0m\u001b[37m\u001b[0m \u001b[1m0s\u001b[0m 64ms/step - loss: 37988488.0000 - mae: 5619.0166 - val_loss: 51516988.0000 - val_mae: 6563.8618\n",
      "Epoch 28/50\n",
      "\u001b[1m2/2\u001b[0m \u001b[32m━━━━━━━━━━━━━━━━━━━━\u001b[0m\u001b[37m\u001b[0m \u001b[1m0s\u001b[0m 66ms/step - loss: 35841536.0000 - mae: 5358.7300 - val_loss: 51511656.0000 - val_mae: 6563.4736\n",
      "Epoch 29/50\n",
      "\u001b[1m2/2\u001b[0m \u001b[32m━━━━━━━━━━━━━━━━━━━━\u001b[0m\u001b[37m\u001b[0m \u001b[1m0s\u001b[0m 64ms/step - loss: 35565188.0000 - mae: 5342.8232 - val_loss: 51506176.0000 - val_mae: 6563.0737\n",
      "Epoch 30/50\n",
      "\u001b[1m2/2\u001b[0m \u001b[32m━━━━━━━━━━━━━━━━━━━━\u001b[0m\u001b[37m\u001b[0m \u001b[1m0s\u001b[0m 64ms/step - loss: 38257412.0000 - mae: 5640.3530 - val_loss: 51500516.0000 - val_mae: 6562.6631\n",
      "Epoch 31/50\n",
      "\u001b[1m2/2\u001b[0m \u001b[32m━━━━━━━━━━━━━━━━━━━━\u001b[0m\u001b[37m\u001b[0m \u001b[1m0s\u001b[0m 65ms/step - loss: 37212336.0000 - mae: 5532.3545 - val_loss: 51494784.0000 - val_mae: 6562.2461\n",
      "Epoch 32/50\n",
      "\u001b[1m2/2\u001b[0m \u001b[32m━━━━━━━━━━━━━━━━━━━━\u001b[0m\u001b[37m\u001b[0m \u001b[1m0s\u001b[0m 66ms/step - loss: 39830288.0000 - mae: 5751.2451 - val_loss: 51488928.0000 - val_mae: 6561.8203\n",
      "Epoch 33/50\n",
      "\u001b[1m2/2\u001b[0m \u001b[32m━━━━━━━━━━━━━━━━━━━━\u001b[0m\u001b[37m\u001b[0m \u001b[1m0s\u001b[0m 66ms/step - loss: 36844764.0000 - mae: 5479.9922 - val_loss: 51482904.0000 - val_mae: 6561.3857\n",
      "Epoch 34/50\n",
      "\u001b[1m2/2\u001b[0m \u001b[32m━━━━━━━━━━━━━━━━━━━━\u001b[0m\u001b[37m\u001b[0m \u001b[1m0s\u001b[0m 65ms/step - loss: 39998648.0000 - mae: 5755.6646 - val_loss: 51476772.0000 - val_mae: 6560.9453\n",
      "Epoch 35/50\n",
      "\u001b[1m2/2\u001b[0m \u001b[32m━━━━━━━━━━━━━━━━━━━━\u001b[0m\u001b[37m\u001b[0m \u001b[1m0s\u001b[0m 66ms/step - loss: 37849844.0000 - mae: 5612.9722 - val_loss: 51470576.0000 - val_mae: 6560.4990\n",
      "Epoch 36/50\n",
      "\u001b[1m2/2\u001b[0m \u001b[32m━━━━━━━━━━━━━━━━━━━━\u001b[0m\u001b[37m\u001b[0m \u001b[1m0s\u001b[0m 65ms/step - loss: 39032028.0000 - mae: 5684.7681 - val_loss: 51464340.0000 - val_mae: 6560.0522\n",
      "Epoch 37/50\n",
      "\u001b[1m2/2\u001b[0m \u001b[32m━━━━━━━━━━━━━━━━━━━━\u001b[0m\u001b[37m\u001b[0m \u001b[1m0s\u001b[0m 63ms/step - loss: 39910112.0000 - mae: 5761.4575 - val_loss: 51457948.0000 - val_mae: 6559.5967\n",
      "Epoch 38/50\n",
      "\u001b[1m2/2\u001b[0m \u001b[32m━━━━━━━━━━━━━━━━━━━━\u001b[0m\u001b[37m\u001b[0m \u001b[1m0s\u001b[0m 64ms/step - loss: 38192684.0000 - mae: 5627.0601 - val_loss: 51451468.0000 - val_mae: 6559.1338\n",
      "Epoch 39/50\n",
      "\u001b[1m2/2\u001b[0m \u001b[32m━━━━━━━━━━━━━━━━━━━━\u001b[0m\u001b[37m\u001b[0m \u001b[1m0s\u001b[0m 66ms/step - loss: 39709492.0000 - mae: 5701.8960 - val_loss: 51444872.0000 - val_mae: 6558.6660\n",
      "Epoch 40/50\n",
      "\u001b[1m2/2\u001b[0m \u001b[32m━━━━━━━━━━━━━━━━━━━━\u001b[0m\u001b[37m\u001b[0m \u001b[1m0s\u001b[0m 68ms/step - loss: 38507700.0000 - mae: 5623.3882 - val_loss: 51438228.0000 - val_mae: 6558.1934\n",
      "Epoch 41/50\n",
      "\u001b[1m2/2\u001b[0m \u001b[32m━━━━━━━━━━━━━━━━━━━━\u001b[0m\u001b[37m\u001b[0m \u001b[1m0s\u001b[0m 66ms/step - loss: 38193656.0000 - mae: 5621.7681 - val_loss: 51431372.0000 - val_mae: 6557.7095\n",
      "Epoch 42/50\n",
      "\u001b[1m2/2\u001b[0m \u001b[32m━━━━━━━━━━━━━━━━━━━━\u001b[0m\u001b[37m\u001b[0m \u001b[1m0s\u001b[0m 66ms/step - loss: 35647376.0000 - mae: 5348.3579 - val_loss: 51424400.0000 - val_mae: 6557.2178\n",
      "Epoch 43/50\n",
      "\u001b[1m2/2\u001b[0m \u001b[32m━━━━━━━━━━━━━━━━━━━━\u001b[0m\u001b[37m\u001b[0m \u001b[1m0s\u001b[0m 65ms/step - loss: 37268704.0000 - mae: 5490.9819 - val_loss: 51417216.0000 - val_mae: 6556.7129\n",
      "Epoch 44/50\n",
      "\u001b[1m2/2\u001b[0m \u001b[32m━━━━━━━━━━━━━━━━━━━━\u001b[0m\u001b[37m\u001b[0m \u001b[1m0s\u001b[0m 65ms/step - loss: 37764612.0000 - mae: 5619.6978 - val_loss: 51409920.0000 - val_mae: 6556.1982\n",
      "Epoch 45/50\n",
      "\u001b[1m2/2\u001b[0m \u001b[32m━━━━━━━━━━━━━━━━━━━━\u001b[0m\u001b[37m\u001b[0m \u001b[1m0s\u001b[0m 68ms/step - loss: 41444612.0000 - mae: 5903.5527 - val_loss: 51402288.0000 - val_mae: 6555.6616\n",
      "Epoch 46/50\n",
      "\u001b[1m2/2\u001b[0m \u001b[32m━━━━━━━━━━━━━━━━━━━━\u001b[0m\u001b[37m\u001b[0m \u001b[1m0s\u001b[0m 64ms/step - loss: 40375656.0000 - mae: 5782.2329 - val_loss: 51394640.0000 - val_mae: 6555.1250\n",
      "Epoch 47/50\n",
      "\u001b[1m2/2\u001b[0m \u001b[32m━━━━━━━━━━━━━━━━━━━━\u001b[0m\u001b[37m\u001b[0m \u001b[1m0s\u001b[0m 62ms/step - loss: 38614364.0000 - mae: 5635.4707 - val_loss: 51386944.0000 - val_mae: 6554.5835\n",
      "Epoch 48/50\n",
      "\u001b[1m2/2\u001b[0m \u001b[32m━━━━━━━━━━━━━━━━━━━━\u001b[0m\u001b[37m\u001b[0m \u001b[1m0s\u001b[0m 63ms/step - loss: 40093332.0000 - mae: 5756.4033 - val_loss: 51378904.0000 - val_mae: 6554.0195\n",
      "Epoch 49/50\n",
      "\u001b[1m2/2\u001b[0m \u001b[32m━━━━━━━━━━━━━━━━━━━━\u001b[0m\u001b[37m\u001b[0m \u001b[1m0s\u001b[0m 64ms/step - loss: 36936444.0000 - mae: 5492.3345 - val_loss: 51370748.0000 - val_mae: 6553.4482\n",
      "Epoch 50/50\n",
      "\u001b[1m2/2\u001b[0m \u001b[32m━━━━━━━━━━━━━━━━━━━━\u001b[0m\u001b[37m\u001b[0m \u001b[1m0s\u001b[0m 66ms/step - loss: 40135084.0000 - mae: 5799.3613 - val_loss: 51362308.0000 - val_mae: 6552.8613\n"
     ]
    }
   ],
   "source": [
    "history = model.fit(\n",
    "    X_train_scaled, y_train,\n",
    "    validation_split=0.2,\n",
    "    epochs=50,\n",
    "    batch_size=32,\n",
    "    verbose=1\n",
    ")"
   ]
  },
  {
   "cell_type": "code",
   "execution_count": 11,
   "id": "955d5b4a",
   "metadata": {
    "execution": {
     "iopub.execute_input": "2025-07-31T15:36:16.499356Z",
     "iopub.status.busy": "2025-07-31T15:36:16.498984Z",
     "iopub.status.idle": "2025-07-31T15:36:16.826637Z",
     "shell.execute_reply": "2025-07-31T15:36:16.825622Z"
    },
    "papermill": {
     "duration": 0.340553,
     "end_time": "2025-07-31T15:36:16.828009",
     "exception": false,
     "start_time": "2025-07-31T15:36:16.487456",
     "status": "completed"
    },
    "tags": []
   },
   "outputs": [
    {
     "data": {
      "image/png": "[encoded data removed]",
      "text/plain": [
       "<Figure size 640x480 with 1 Axes>"
      ]
     },
     "metadata": {},
     "output_type": "display_data"
    }
   ],
   "source": [
    "import matplotlib.pyplot as plt\n",
    "\n",
    "plt.plot(history.history['loss'], label='Train Loss')\n",
    "plt.plot(history.history['val_loss'], label='Val Loss')\n",
    "plt.title(\"Model Training Loss\")\n",
    "plt.xlabel(\"Epoch\")\n",
    "plt.ylabel(\"MSE Loss\")\n",
    "plt.legend()\n",
    "plt.grid(True)\n",
    "plt.tight_layout()\n",
    "plt.show()"
   ]
  },
  {
   "cell_type": "code",
   "execution_count": 12,
   "id": "07db2944",
   "metadata": {
    "execution": {
     "iopub.execute_input": "2025-07-31T15:36:16.850872Z",
     "iopub.status.busy": "2025-07-31T15:36:16.850556Z",
     "iopub.status.idle": "2025-07-31T15:36:16.854865Z",
     "shell.execute_reply": "2025-07-31T15:36:16.854017Z"
    },
    "papermill": {
     "duration": 0.017298,
     "end_time": "2025-07-31T15:36:16.856232",
     "exception": false,
     "start_time": "2025-07-31T15:36:16.838934",
     "status": "completed"
    },
    "tags": []
   },
   "outputs": [],
   "source": [
    "from sklearn.metrics import mean_squared_error, mean_absolute_error, r2_score"
   ]
  },
  {
   "cell_type": "code",
   "execution_count": 13,
   "id": "e7bca3c2",
   "metadata": {
    "execution": {
     "iopub.execute_input": "2025-07-31T15:36:16.879924Z",
     "iopub.status.busy": "2025-07-31T15:36:16.879367Z",
     "iopub.status.idle": "2025-07-31T15:36:17.026564Z",
     "shell.execute_reply": "2025-07-31T15:36:17.025631Z"
    },
    "papermill": {
     "duration": 0.160411,
     "end_time": "2025-07-31T15:36:17.028115",
     "exception": false,
     "start_time": "2025-07-31T15:36:16.867704",
     "status": "completed"
    },
    "tags": []
   },
   "outputs": [
    {
     "name": "stdout",
     "output_type": "stream",
     "text": [
      "\u001b[1m1/1\u001b[0m \u001b[32m━━━━━━━━━━━━━━━━━━━━\u001b[0m\u001b[37m\u001b[0m \u001b[1m0s\u001b[0m 80ms/step\n",
      "Model Evaluation on Test Set:\n",
      "Mean Squared Error (MSE): 17983945.538758464\n",
      "Mean Absolute Error (MAE): 3375.6631460324506\n",
      "R² Score: -1.2378879090798391\n"
     ]
    }
   ],
   "source": [
    "y_pred = model.predict(X_test)\n",
    "\n",
    "mse = mean_squared_error(y_test, y_pred)\n",
    "mae = mean_absolute_error(y_test, y_pred)\n",
    "r2 = r2_score(y_test, y_pred)\n",
    "\n",
    "# Print the results\n",
    "print(\"Model Evaluation on Test Set:\")\n",
    "print(f\"Mean Squared Error (MSE): {mse}\")\n",
    "print(f\"Mean Absolute Error (MAE): {mae}\")\n",
    "print(f\"R² Score: {r2}\")"
   ]
  },
  {
   "cell_type": "code",
   "execution_count": null,
   "id": "6fc1d587",
   "metadata": {
    "papermill": {
     "duration": 0.01055,
     "end_time": "2025-07-31T15:36:17.049904",
     "exception": false,
     "start_time": "2025-07-31T15:36:17.039354",
     "status": "completed"
    },
    "tags": []
   },
   "outputs": [],
   "source": []
  }
 ],
 "metadata": {
  "kaggle": {
   "accelerator": "none",
   "dataSources": [
    {
     "datasetId": 7982056,
     "sourceId": 12632248,
     "sourceType": "datasetVersion"
    }
   ],
   "dockerImageVersionId": 31089,
   "isGpuEnabled": false,
   "isInternetEnabled": false,
   "language": "python",
   "sourceType": "notebook"
  },
  "kernelspec": {
   "display_name": "Python 3",
   "language": "python",
   "name": "python3"
  },
  "language_info": {
   "codemirror_mode": {
    "name": "ipython",
    "version": 3
   },
   "file_extension": ".py",
   "mimetype": "text/x-python",
   "name": "python",
   "nbconvert_exporter": "python",
   "pygments_lexer": "ipython3",
   "version": "3.11.13"
  },
  "papermill": {
   "default_parameters": {},
   "duration": 37.156382,
   "end_time": "2025-07-31T15:36:20.189915",
   "environment_variables": {},
   "exception": null,
   "input_path": "__notebook__.ipynb",
   "output_path": "__notebook__.ipynb",
   "parameters": {},
   "start_time": "2025-07-31T15:35:43.033533",
   "version": "2.6.0"
  }
 },
 "nbformat": 4,
 "nbformat_minor": 5
}
